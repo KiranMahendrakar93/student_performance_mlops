{
 "cells": [
  {
   "cell_type": "code",
   "execution_count": 76,
   "metadata": {},
   "outputs": [],
   "source": [
    "import mlflow\n",
    "from mlflow.tracking import MlflowClient\n",
    "from mlflow.entities import ViewType\n",
    "\n",
    "from datetime import datetime\n",
    "\n",
    "import pickle\n",
    "from sklearn.metrics import accuracy_score\n",
    "import pandas as pd"
   ]
  },
  {
   "cell_type": "code",
   "execution_count": 22,
   "metadata": {},
   "outputs": [
    {
     "data": {
      "text/plain": [
       "[<Experiment: artifact_location='/workspaces/student_performance_mlops/notebook/mlruns/1', creation_time=1719986220572, experiment_id='1', last_update_time=1719986220572, lifecycle_stage='active', name='student_performance-experiment', tags={}>,\n",
       " <Experiment: artifact_location='/workspaces/student_performance_mlops/notebook/mlruns/0', creation_time=1719986220539, experiment_id='0', last_update_time=1719986220539, lifecycle_stage='active', name='Default', tags={}>]"
      ]
     },
     "execution_count": 22,
     "metadata": {},
     "output_type": "execute_result"
    }
   ],
   "source": [
    "MLFLOW_TRACKING_URI = \"sqlite:///mlflow.db\"\n",
    "client = MlflowClient(tracking_uri=MLFLOW_TRACKING_URI)\n",
    "\n",
    "client.search_experiments()"
   ]
  },
  {
   "cell_type": "code",
   "execution_count": 23,
   "metadata": {},
   "outputs": [
    {
     "name": "stdout",
     "output_type": "stream",
     "text": [
      "run id: c9d7a3ba7ccd47858069491fa15040ab, test_accuracy: 0.7453\n",
      "run id: 4e90a2476abc4d5991ae38e324f99aea, test_accuracy: 0.7453\n",
      "run id: 7a7b354cd1a646efa6c8a277f27f904b, test_accuracy: 0.7328\n",
      "run id: e5ab3d218e4a40d4b3dfd2bef6253411, test_accuracy: 0.6973\n"
     ]
    }
   ],
   "source": [
    "runs = client.search_runs(\n",
    "    experiment_ids='1',\n",
    "    filter_string=\"metrics.test_accuracy > 0.69\",\n",
    "    run_view_type=ViewType.ACTIVE_ONLY,\n",
    "    max_results=5,\n",
    "    order_by=[\"metrics.test_accuracy DESC\"]\n",
    ")\n",
    "\n",
    "\n",
    "for run in runs:\n",
    "    print(f\"run id: {run.info.run_id}, test_accuracy: {run.data.metrics['test_accuracy']:.4f}\")"
   ]
  },
  {
   "cell_type": "code",
   "execution_count": 24,
   "metadata": {},
   "outputs": [
    {
     "name": "stderr",
     "output_type": "stream",
     "text": [
      "Registered model 'student-performance-registry' already exists. Creating a new version of this model...\n",
      "Created version '4' of model 'student-performance-registry'.\n"
     ]
    },
    {
     "data": {
      "text/plain": [
       "<ModelVersion: aliases=[], creation_timestamp=1719997568378, current_stage='None', description=None, last_updated_timestamp=1719997568378, name='student-performance-registry', run_id='e5ab3d218e4a40d4b3dfd2bef6253411', run_link=None, source='/workspaces/student_performance_mlops/notebook/mlruns/1/e5ab3d218e4a40d4b3dfd2bef6253411/artifacts/model', status='READY', status_message=None, tags={}, user_id=None, version=4>"
      ]
     },
     "execution_count": 24,
     "metadata": {},
     "output_type": "execute_result"
    }
   ],
   "source": [
    "mlflow.set_tracking_uri(MLFLOW_TRACKING_URI)\n",
    "\n",
    "\n",
    "run_id = \"e5ab3d218e4a40d4b3dfd2bef6253411\"\n",
    "model_uri = f\"runs:/{run_id}/model\"\n",
    "mlflow.register_model(model_uri=model_uri, name=\"student-performance-registry\")"
   ]
  },
  {
   "cell_type": "code",
   "execution_count": 31,
   "metadata": {},
   "outputs": [
    {
     "name": "stdout",
     "output_type": "stream",
     "text": [
      "version: 1, stage: Archived\n",
      "version: 4, stage: None\n",
      "version: 3, stage: Staging\n"
     ]
    },
    {
     "name": "stderr",
     "output_type": "stream",
     "text": [
      "/tmp/ipykernel_87374/3741919303.py:2: FutureWarning: ``mlflow.tracking.client.MlflowClient.get_latest_versions`` is deprecated since 2.9.0. Model registry stages will be removed in a future major release. To learn more about the deprecation of model registry stages, see our migration guide here: https://mlflow.org/docs/latest/model-registry.html#migrating-from-stages\n",
      "  latest_versions = client.get_latest_versions(name=model_name)\n"
     ]
    }
   ],
   "source": [
    "model_name = \"student-performance-registry\"\n",
    "latest_versions = client.get_latest_versions(name=model_name)\n",
    "\n",
    "for version in latest_versions:\n",
    "    print(f\"version: {version.version}, stage: {version.current_stage}\")"
   ]
  },
  {
   "cell_type": "code",
   "execution_count": 33,
   "metadata": {},
   "outputs": [
    {
     "name": "stderr",
     "output_type": "stream",
     "text": [
      "/tmp/ipykernel_87374/3868853133.py:3: FutureWarning: ``mlflow.tracking.client.MlflowClient.transition_model_version_stage`` is deprecated since 2.9.0. Model registry stages will be removed in a future major release. To learn more about the deprecation of model registry stages, see our migration guide here: https://mlflow.org/docs/latest/model-registry.html#migrating-from-stages\n",
      "  client.transition_model_version_stage(\n"
     ]
    },
    {
     "data": {
      "text/plain": [
       "<ModelVersion: aliases=[], creation_timestamp=1719997568378, current_stage='Archived', description=None, last_updated_timestamp=1719997849562, name='student-performance-registry', run_id='e5ab3d218e4a40d4b3dfd2bef6253411', run_link=None, source='/workspaces/student_performance_mlops/notebook/mlruns/1/e5ab3d218e4a40d4b3dfd2bef6253411/artifacts/model', status='READY', status_message=None, tags={'model': 'Random_Forest'}, user_id=None, version=4>"
      ]
     },
     "execution_count": 33,
     "metadata": {},
     "output_type": "execute_result"
    }
   ],
   "source": [
    "model_version = 4\n",
    "new_stage = \"Archived\"\n",
    "client.transition_model_version_stage(\n",
    "    name=model_name,\n",
    "    version=model_version,\n",
    "    stage=new_stage,\n",
    "    archive_existing_versions=False\n",
    ")"
   ]
  },
  {
   "cell_type": "code",
   "execution_count": 34,
   "metadata": {},
   "outputs": [
    {
     "name": "stderr",
     "output_type": "stream",
     "text": [
      "/tmp/ipykernel_87374/1916165323.py:3: FutureWarning: ``mlflow.tracking.client.MlflowClient.transition_model_version_stage`` is deprecated since 2.9.0. Model registry stages will be removed in a future major release. To learn more about the deprecation of model registry stages, see our migration guide here: https://mlflow.org/docs/latest/model-registry.html#migrating-from-stages\n",
      "  client.transition_model_version_stage(\n"
     ]
    },
    {
     "data": {
      "text/plain": [
       "<ModelVersion: aliases=[], creation_timestamp=1719995311636, current_stage='None', description='', last_updated_timestamp=1719997895644, name='student-performance-registry', run_id='7a7b354cd1a646efa6c8a277f27f904b', run_link='', source='/workspaces/student_performance_mlops/notebook/mlruns/1/7a7b354cd1a646efa6c8a277f27f904b/artifacts/model', status='READY', status_message=None, tags={'model': 'Logistic_Regression'}, user_id=None, version=1>"
      ]
     },
     "execution_count": 34,
     "metadata": {},
     "output_type": "execute_result"
    }
   ],
   "source": [
    "model_version = 1\n",
    "new_stage = \"None\"\n",
    "client.transition_model_version_stage(\n",
    "    name=model_name,\n",
    "    version=model_version,\n",
    "    stage=new_stage,\n",
    "    archive_existing_versions=False\n",
    ")"
   ]
  },
  {
   "cell_type": "code",
   "execution_count": 35,
   "metadata": {},
   "outputs": [
    {
     "name": "stderr",
     "output_type": "stream",
     "text": [
      "/tmp/ipykernel_87374/4090915774.py:3: FutureWarning: ``mlflow.tracking.client.MlflowClient.transition_model_version_stage`` is deprecated since 2.9.0. Model registry stages will be removed in a future major release. To learn more about the deprecation of model registry stages, see our migration guide here: https://mlflow.org/docs/latest/model-registry.html#migrating-from-stages\n",
      "  client.transition_model_version_stage(\n"
     ]
    },
    {
     "data": {
      "text/plain": [
       "<ModelVersion: aliases=[], creation_timestamp=1719995335731, current_stage='Staging', description='', last_updated_timestamp=1719997919495, name='student-performance-registry', run_id='4e90a2476abc4d5991ae38e324f99aea', run_link='', source='/workspaces/student_performance_mlops/notebook/mlruns/1/4e90a2476abc4d5991ae38e324f99aea/artifacts/model', status='READY', status_message=None, tags={'model': 'SVC_wo_tuning'}, user_id=None, version=2>"
      ]
     },
     "execution_count": 35,
     "metadata": {},
     "output_type": "execute_result"
    }
   ],
   "source": [
    "model_version = 2\n",
    "new_stage = \"Staging\"\n",
    "client.transition_model_version_stage(\n",
    "    name=model_name,\n",
    "    version=model_version,\n",
    "    stage=new_stage,\n",
    "    archive_existing_versions=False\n",
    ")"
   ]
  },
  {
   "cell_type": "code",
   "execution_count": 38,
   "metadata": {},
   "outputs": [],
   "source": [
    "\n",
    "\n",
    "date = datetime.today().date()\n",
    "new_stage = \"Staging\"\n",
    "for model_version in [2,3]:\n",
    "    client.update_model_version(\n",
    "        name=model_name,\n",
    "        version=model_version,\n",
    "        description=f\"The model version {model_version} was transitioned to {new_stage} on {date}\"\n",
    "    )"
   ]
  },
  {
   "cell_type": "code",
   "execution_count": 96,
   "metadata": {},
   "outputs": [
    {
     "name": "stdout",
     "output_type": "stream",
     "text": [
      "mlflow.pyfunc.loaded_model:\n",
      "  artifact_path: model\n",
      "  flavor: mlflow.sklearn\n",
      "  run_id: c9d7a3ba7ccd47858069491fa15040ab\n",
      "\n",
      "{'train_accuracy': 0.7684265551489806}\n",
      "{'test_accuracy': 0.7453027139874739}\n"
     ]
    }
   ],
   "source": [
    "# load data\n",
    "with open(\"/workspaces/student_performance_mlops/dumps/misc/preprocessed_data.pkl\", \"rb\") as f:\n",
    "    X_train, X_test, y_train, y_test = pickle.load(f)\n",
    "\n",
    "\n",
    "# load model\n",
    "model_version = 3\n",
    "model = mlflow.pyfunc.load_model(f\"models:/{model_name}/{model_version}\")\n",
    "y_train_pred = model.predict(X_train)\n",
    "y_test_pred = model.predict(X_test)\n",
    "\n",
    "print(model)\n",
    "print({\"train_accuracy\": accuracy_score(y_train.values, y_train_pred)})\n",
    "print({\"test_accuracy\": accuracy_score(y_test.values, y_test_pred)})"
   ]
  },
  {
   "cell_type": "code",
   "execution_count": 97,
   "metadata": {},
   "outputs": [
    {
     "name": "stderr",
     "output_type": "stream",
     "text": [
      "/tmp/ipykernel_87374/4149871539.py:3: FutureWarning: ``mlflow.tracking.client.MlflowClient.transition_model_version_stage`` is deprecated since 2.9.0. Model registry stages will be removed in a future major release. To learn more about the deprecation of model registry stages, see our migration guide here: https://mlflow.org/docs/latest/model-registry.html#migrating-from-stages\n",
      "  client.transition_model_version_stage(\n"
     ]
    },
    {
     "data": {
      "text/plain": [
       "<ModelVersion: aliases=[], creation_timestamp=1719995382762, current_stage='Production', description='The model version 3 was transitioned to Production on 2024-07-03', last_updated_timestamp=1719999893298, name='student-performance-registry', run_id='c9d7a3ba7ccd47858069491fa15040ab', run_link='', source='/workspaces/student_performance_mlops/notebook/mlruns/1/c9d7a3ba7ccd47858069491fa15040ab/artifacts/model', status='READY', status_message=None, tags={'model': 'SVC_w_tuning'}, user_id=None, version=3>"
      ]
     },
     "execution_count": 97,
     "metadata": {},
     "output_type": "execute_result"
    }
   ],
   "source": [
    "model_version = 3\n",
    "new_stage = \"Production\"\n",
    "client.transition_model_version_stage(\n",
    "    name=model_name,\n",
    "    version=model_version,\n",
    "    stage=new_stage,\n",
    "    archive_existing_versions=False\n",
    ")\n",
    "\n",
    "date = datetime.today().date()\n",
    "client.update_model_version(\n",
    "    name=model_name,\n",
    "    version=model_version,\n",
    "    description=f\"The model version {model_version} was transitioned to {new_stage} on {date}\"\n",
    ")"
   ]
  }
 ],
 "metadata": {
  "kernelspec": {
   "display_name": ".venv",
   "language": "python",
   "name": "python3"
  },
  "language_info": {
   "codemirror_mode": {
    "name": "ipython",
    "version": 3
   },
   "file_extension": ".py",
   "mimetype": "text/x-python",
   "name": "python",
   "nbconvert_exporter": "python",
   "pygments_lexer": "ipython3",
   "version": "3.10.13"
  }
 },
 "nbformat": 4,
 "nbformat_minor": 2
}
